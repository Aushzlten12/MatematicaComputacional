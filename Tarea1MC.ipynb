{
 "cells": [
  {
   "cell_type": "markdown",
   "id": "2aa06b76-d41a-4d04-a7e4-712310eeb1c5",
   "metadata": {},
   "source": [
    "# Metodo Simplex"
   ]
  },
  {
   "cell_type": "markdown",
   "id": "02b9d5c8-499d-414a-a304-3f53230046c1",
   "metadata": {},
   "source": [
    "Usamos Python para realizar el método Simplex para minimizar y maximizar para la forma canónica\n",
    "Para ello nececsitaremos metodos en Arrays"
   ]
  },
  {
   "cell_type": "code",
   "execution_count": 7,
   "id": "fea78394-313d-42aa-97b2-b2ac1ac9ac6a",
   "metadata": {},
   "outputs": [],
   "source": [
    "# OPERACION FILA EN UNA MATRIZ  \n",
    "\n",
    "def OperacionFila(Matriz,f1,f2,k=1):\n",
    "    n = Matriz[0].__len__()\n",
    "    for i in range(n):\n",
    "        Matriz[f1][i] += k*Matriz[f2][i]"
   ]
  },
  {
   "cell_type": "code",
   "execution_count": 9,
   "id": "366d184a-f774-445f-9bfe-59de13524e06",
   "metadata": {},
   "outputs": [],
   "source": [
    "# OPERACION FILA POR CONSTANTE\n",
    "def FilaPorConstante(Matriz,f,k):\n",
    "    for i in range(Matriz[0].__len__()):\n",
    "        Matriz[f][i] *= k"
   ]
  },
  {
   "cell_type": "code",
   "execution_count": 4,
   "id": "ecfd03a5-d175-445d-896a-b873a1496bdb",
   "metadata": {},
   "outputs": [],
   "source": [
    "# HALLAR EL INDICE DE UN ELEMENTO EN UN ARRAY DADO\n",
    "def IndiceEnArray(n,Array):\n",
    "    indice = 0\n",
    "    for i in range(Array.__len__()):\n",
    "        if n == Array[i]:\n",
    "            return indice\n",
    "        indice+=1\n",
    "    return indice"
   ]
  },
  {
   "cell_type": "code",
   "execution_count": 5,
   "id": "2a19ca50-429a-4959-8738-2caabb791912",
   "metadata": {},
   "outputs": [],
   "source": [
    "# RETORNA UN ARRAY CON LOS INDICES EN LOS QUE APARECE CIERTO VALOR EN EL ARRAY\n",
    "def IndicesConValorEnArray(Array,n):\n",
    "    indices = []\n",
    "    for i in range(Array.__len__()):\n",
    "        if n==Array[i]:\n",
    "            indices.append(i)\n",
    "    return indices"
   ]
  },
  {
   "cell_type": "code",
   "execution_count": 6,
   "id": "064852ed-7b7b-4d22-8a65-a7b9adebeb72",
   "metadata": {},
   "outputs": [],
   "source": [
    "# NUMERO DE VECES QUE APARECE CIERTO VALOR EN UN ARRAY\n",
    "def VecesApareceEnArray(Array,n):\n",
    "    Nveces = 0\n",
    "    for i in range(Array.__len__()):\n",
    "        if(n==Array[i]):\n",
    "            Nveces +=1\n",
    "    return Nveces"
   ]
  },
  {
   "cell_type": "code",
   "execution_count": 16,
   "id": "dd53acf7-6cca-4dee-9da1-7cffa166d5cd",
   "metadata": {},
   "outputs": [],
   "source": [
    "# VERIFICAR SI HAY CEROS EN UN ARRAY\n",
    "def ArrayConCeros(Array):\n",
    "    for i in range(Array.__len__()):\n",
    "        if Array[i]==0:\n",
    "            return True\n",
    "    return False"
   ]
  },
  {
   "cell_type": "markdown",
   "id": "6d4d0d39-8040-4b6e-8dac-0c39db6d13d2",
   "metadata": {},
   "source": [
    "## Obtener la Tabla "
   ]
  },
  {
   "cell_type": "markdown",
   "id": "c3fba306-8a20-493e-98fa-93dfd5cf7f86",
   "metadata": {},
   "source": [
    "Para ello se crean dos funciones, uno para crear la tabla cuando se desee maximizar y otra cuando se desea minimizar"
   ]
  },
  {
   "cell_type": "code",
   "execution_count": 12,
   "id": "4c35ae8b-308b-4636-9b78-64a7f26f3a2d",
   "metadata": {},
   "outputs": [],
   "source": [
    "# TABLA PARA MAXIMIZAR\n",
    "def ConstruirTablaMaximizar(MatrizA,MatrizB,MatrizZ):\n",
    "    n = MatrizA.__len__()\n",
    "    m = 1\n",
    "    p = MatrizZ.__len__()\n",
    "    Tabla = np.zeros((n+1,1+m+p+n))\n",
    "    for i in range(n):\n",
    "        Tabla[i][0] = 0\n",
    "        ind = 1\n",
    "        for j in range(p):\n",
    "            Tabla[i][ind] = MatrizA[i][j]\n",
    "            ind+=1\n",
    "        for j in range(n):\n",
    "            if i==j:\n",
    "                Tabla[i][ind]=1\n",
    "            else:\n",
    "                Tabla[i][ind]=0\n",
    "            ind+=1\n",
    "        Tabla[i][ind] = MatrizB[i][0]\n",
    "    Tabla[n][0] = 1\n",
    "    for i in range(1,1+m+p+n):\n",
    "        if i <= MatrizZ.__len__():\n",
    "            Tabla[n][i] = -1 * MatrizZ[i-1]\n",
    "        else:\n",
    "            Tabla[n][i] = 0\n",
    "        \n",
    "    return Tabla\n"
   ]
  },
  {
   "cell_type": "code",
   "execution_count": 14,
   "id": "ef18999b-39cd-4faa-8f6f-923827a93ea1",
   "metadata": {},
   "outputs": [],
   "source": [
    "def ConstruirTablaMinimizar(MatrizA,MatrizB,MatrizZ):\n",
    "    n = MatrizA.__len__() # Numero de Ecuaciones de Restriccion\n",
    "    m = 1 # Una columna de B\n",
    "    p = MatrizZ.__len__() # Numero de Variables\n",
    "    Tabla = np.zeros((n+1,p+m+2*n))\n",
    "    for i in range(n):\n",
    "        ind = 0\n",
    "        for j in range(p):\n",
    "            Tabla[i][ind] = MatrizA[i][j]\n",
    "            ind+=1\n",
    "        for j in range(n*2):\n",
    "            if j==2*i:\n",
    "                Tabla[i][ind] = -1\n",
    "            elif j==2*i+1:\n",
    "                Tabla[i][ind] = 1\n",
    "            else:\n",
    "                Tabla[i][ind] = 0\n",
    "            ind+=1\n",
    "        Tabla[i][ind] = MatrizB[i][0]\n",
    "    for i in range(p+m+2*n):\n",
    "        if i<p:\n",
    "            Tabla[n][i] = MatrizZ[i]\n",
    "        else:\n",
    "            if (i-p)%2==0 and i-p>=0:\n",
    "                Tabla[n][i] = 0\n",
    "            else:\n",
    "                Tabla[n][i] = 1\n",
    "    return Tabla"
   ]
  },
  {
   "cell_type": "markdown",
   "id": "de32bd27-fa9a-4086-b22b-9c1757e33c94",
   "metadata": {},
   "source": [
    "Para encontrar el pivote en ambas tablas se necesitan ciertas funciones, para hallar la columna y la fila en la que se encuentra"
   ]
  },
  {
   "cell_type": "markdown",
   "id": "671cd3df-5043-42ca-afe0-0d7bece627ba",
   "metadata": {},
   "source": [
    "### Para la tabla de Maximizar"
   ]
  },
  {
   "cell_type": "code",
   "execution_count": 17,
   "id": "5632f77b-61b1-4bcd-9069-4974ad6088ac",
   "metadata": {},
   "outputs": [],
   "source": [
    "# MAYOR ABSOLUTO EN UN ARRAY (ULTIMA FILA DE LA TABLA)\n",
    "def MayorAbsoluto(Array):\n",
    "    n = Array.__len__()\n",
    "    Fila = np.zeros(n-1)\n",
    "    for i in range(n-1):\n",
    "        Fila[i] = Array[i]\n",
    "    FilaAbs = list(map(lambda x:abs(x),Fila))\n",
    "    maxVal = max(FilaAbs)\n",
    "    # Encontrar el indice \n",
    "    ind = 0\n",
    "    for i in range(Fila.__len__()):\n",
    "        if abs(Fila[i]) == maxVal:\n",
    "            ind = i\n",
    "            break\n",
    "    # Retorna el maximo valor y el indice en el que se encuentra\n",
    "    return maxVal,ind"
   ]
  },
  {
   "cell_type": "markdown",
   "id": "0c396220-e4e0-4232-ac12-b4a42e8a672f",
   "metadata": {},
   "source": [
    "### Para la tabla de minimizar"
   ]
  },
  {
   "cell_type": "code",
   "execution_count": 18,
   "id": "db056b40-ccd4-4496-a55d-395abf4c4d4c",
   "metadata": {},
   "outputs": [],
   "source": [
    "def EncontrarMenorEnFila(Matriz,ColMultiply,NumeroVariables):\n",
    "    indiceColumna = 0\n",
    "    n = Matriz[0].__len__()\n",
    "    ArraySumasDeConstante = np.zeros(n-1)\n",
    "    ArraySumasNoConstante = np.zeros(n-1)\n",
    "    for i in range(n-1):\n",
    "        sumaConst = 0\n",
    "        sumaNoConst = 0\n",
    "        for j in range(ColMultiply.__len__()):\n",
    "            if ColMultiply[j] == 0:\n",
    "                sumaConst += Matriz[j][i]\n",
    "            else:\n",
    "                sumaNoConst += ColMultiply[j]*Matriz[j][i]\n",
    "            \n",
    "        ArraySumasDeConstante[i] = -1 *sumaConst\n",
    "        ArraySumasNoConstante[i] = -1 * sumaNoConst\n",
    "        if (i - NumeroVariables) % 2 == 1 and i-NumeroVariables>=0:\n",
    "            ArraySumasDeConstante[i] += 1\n",
    "        else:\n",
    "            ArraySumasNoConstante[i] += Matriz[Matriz.__len__()-1][i]\n",
    "    MinVal = min(ArraySumasDeConstante)\n",
    "    indiceColumna = IndiceEnArray(MinVal,ArraySumasDeConstante)\n",
    "    if VecesApareceEnArray(ArraySumasDeConstante,MinVal)>1:\n",
    "        indices = IndicesConValorEnArray(ArraySumasDeConstante,MinVal)\n",
    "        MinVal = ArraySumasNoConstante[indices[0]]\n",
    "        for ind in indices:\n",
    "            if ArraySumasNoConstante[ind]<MinVal:\n",
    "                MinVal = ArraySumasNoConstante[ind]\n",
    "        indiceColumna = IndiceEnArray(MinVal,ArraySumasNoConstante)\n",
    "    condicion = False\n",
    "    if FilaNoNegativa(ArraySumasDeConstante) and FilaNoNegativa(ArraySumasDeConstante):\n",
    "        condicion = True\n",
    "    return indiceColumna,condicion"
   ]
  },
  {
   "cell_type": "markdown",
   "id": "8a5e0a99-1ed5-492d-98a9-855cf6d0292b",
   "metadata": {},
   "source": [
    "En ambos necesito encontrar el pivote ya se tiene el indice de la columna, el proceso para ambos es igual por lo que se usa la misma función"
   ]
  },
  {
   "cell_type": "code",
   "execution_count": 20,
   "id": "e014d19b-48f8-4bb3-9011-d8aef037c848",
   "metadata": {},
   "outputs": [],
   "source": [
    "def EncontrarPivote(Tabla,indiceColumna):\n",
    "    n = Tabla.__len__()\n",
    "    m = Tabla[0].__len__()\n",
    "    ColumnaDivision = np.zeros(n-1)\n",
    "    for i in range(n-1):\n",
    "        if Tabla[i][indiceColumna]==0:\n",
    "            ColumnaDivision[i] = -1\n",
    "        else:\n",
    "            ColumnaDivision[i] = Tabla[i][m-1] / Tabla[i][indiceColumna]\n",
    "    minimaDivision = max(ColumnaDivision)\n",
    "    for i in range(n-1):\n",
    "        if ColumnaDivision[i]<0:\n",
    "            continue\n",
    "        if ColumnaDivision[i]<minimaDivision:\n",
    "            minimaDivision = ColumnaDivision[i]\n",
    "    indiceFila = 0\n",
    "    for i in range(n-1):\n",
    "        if ColumnaDivision[i] == minimaDivision:\n",
    "            indiceFila = i\n",
    "    pivote = Tabla[indiceFila][indiceColumna]\n",
    "    return pivote,indiceFila\n"
   ]
  },
  {
   "cell_type": "markdown",
   "id": "df9f2c63-0b85-4394-86ef-06b68318bfe5",
   "metadata": {},
   "source": [
    "Para el caso de Maximizar se tiene una condicion que detiene el bucle el cual es que no haya elementos negativos. En el caso de minimizar se obtiene esta condición en la función que encuentra la columna del pivote"
   ]
  },
  {
   "cell_type": "code",
   "execution_count": 21,
   "id": "40c09ce7-4445-47bb-a2f8-1c5902f1ee65",
   "metadata": {},
   "outputs": [],
   "source": [
    "def FilaNoNegativa(Array):\n",
    "    condicion = True\n",
    "    for i in range(Array.__len__()):\n",
    "        if Array[i]<0:\n",
    "            condicion = False\n",
    "            return condicion\n",
    "    return condicion"
   ]
  },
  {
   "cell_type": "markdown",
   "id": "882c343b-f9f3-4116-ac2d-310212448b41",
   "metadata": {},
   "source": [
    "Luego ese pivote debe ser 1, por lo que se usa la operacion fila por una constante, y la columna de dicho pivote debe ser cero"
   ]
  },
  {
   "cell_type": "code",
   "execution_count": 23,
   "id": "f8741d7f-a93c-433d-9897-4ba1582518c5",
   "metadata": {},
   "outputs": [],
   "source": [
    "# PARA MAXIMIZAR\n",
    "def ColumnasDelPivoteCero(Matriz,indFila,indCol):\n",
    "    n = Matriz.__len__()\n",
    "    for i in range(n):\n",
    "        if i == indFila:\n",
    "            continue\n",
    "        k = Matriz[i][indCol] / Matriz[indFila][indCol]\n",
    "        OperacionFila(Matriz,i,indFila,-k)\n",
    "# PARA MINIMIZAR\n",
    "def ColumnaDelPivoteCero(Matriz,indFila,indCol):\n",
    "    n = Matriz.__len__()\n",
    "    for i in range(n-1):\n",
    "        if i == indFila:\n",
    "            continue\n",
    "        k = Matriz[i][indCol] / Matriz[indFila][indCol]"
   ]
  },
  {
   "cell_type": "markdown",
   "id": "e6b26240-3ae7-47d8-aab0-280bd8c902cc",
   "metadata": {},
   "source": [
    "Se tiene dos funciones similares sin embargo en el metodo para minimizar no se afecta la ultima fila"
   ]
  },
  {
   "cell_type": "markdown",
   "id": "bb5a3783-94ba-4e20-ab33-4ed2472d64de",
   "metadata": {},
   "source": [
    "Y estos metodos los usamos en los metodos simplex"
   ]
  },
  {
   "cell_type": "markdown",
   "id": "3b58dc04-860d-4fb8-9612-6222ec52e0e1",
   "metadata": {},
   "source": [
    "### METODO SIMPLEX MAXIMIZAR"
   ]
  },
  {
   "cell_type": "code",
   "execution_count": 27,
   "id": "6f9cfe17-33ce-46fb-a8fd-72a543711190",
   "metadata": {},
   "outputs": [],
   "source": [
    "# Metodo Simplex para maximizar\n",
    "def SimplexMaximizar(Tabla,Solucion):\n",
    "    n = Tabla.__len__()\n",
    "    m = Tabla[0].__len__()\n",
    "    while not FilaNoNegativa(Tabla[n-1]):\n",
    "        indCol = MayorAbsoluto(Tabla[n-1])[1]\n",
    "        pivote, indFila = EncontrarPivote(Tabla,indCol)\n",
    "        FilaPorConstante(Tabla,indFila,1/pivote) \n",
    "        ColumnasDelPivoteCero(Tabla,indFila,indCol)\n",
    "        Solucion[indFila][0] = indCol \n",
    "    for i in range(Solucion.__len__()):\n",
    "        if Solucion[i][0]!=0:\n",
    "            Solucion[i][1] = Tabla[i][m-1]\n",
    "    return Tabla[n-1][m-1]\n"
   ]
  },
  {
   "cell_type": "markdown",
   "id": "6b3d4b49-e224-419f-82aa-c18c8d4e4c88",
   "metadata": {},
   "source": [
    "Probamos el valor optimo con la siguiente función"
   ]
  },
  {
   "cell_type": "code",
   "execution_count": 28,
   "id": "34b5cdfd-ced6-4d86-9378-8b56a3ec4077",
   "metadata": {},
   "outputs": [],
   "source": [
    "def ProbarOptimoValor(Solucion,z,SolMaxima):\n",
    "    VariablesColumna = np.zeros((z.__len__()))\n",
    "    for i in range(z.__len__()):\n",
    "        VariablesColumna[i] = Solucion[i][0]\n",
    "    ValMax = 0\n",
    "    for i in range(Solucion.__len__()):\n",
    "        ind = int(Solucion[i][0])-1\n",
    "        ValMax += Solucion[i][1] * z[ind] \n",
    "        if VariablesColumna[i] != 0:\n",
    "            indice = int(Solucion[i][0])\n",
    "            print(f\"La variable x{indice} es igual a\",round(Solucion[i][1],1))\n",
    "    if ArrayConCeros(VariablesColumna):\n",
    "        print(\"Las otras variables son iguales a 0\")\n",
    "    if ValMax == SolMaxima:\n",
    "        print(\"La solucion maxima es : \" ,round(SolMaxima,1))\n",
    "    else:\n",
    "        print(\"No se encontra la solucion maxima\")"
   ]
  },
  {
   "cell_type": "markdown",
   "id": "01d1cdba-3e34-4095-9329-60c87acf613a",
   "metadata": {},
   "source": [
    "### METODO SIMPLEX MINIMIZAR"
   ]
  },
  {
   "cell_type": "code",
   "execution_count": 29,
   "id": "a59b47bd-64b2-4280-990a-673e9f6effff",
   "metadata": {},
   "outputs": [],
   "source": [
    "# Metodo Simplex para minimizar\n",
    "def SimplexMinimizar(Tabla,Solucion,NumeroVariables):\n",
    "    n = Tabla.__len__()\n",
    "    m = Tabla[0].__len__()\n",
    "    ColMultiply = np.zeros(n-1)\n",
    "    while not EncontrarMenorEnFila(Tabla,ColMultiply,NumeroVariables)[1]:\n",
    "        indCol= EncontrarMenorEnFila(Tabla,ColMultiply,NumeroVariables)[0]\n",
    "        pivote,indFila = EncontrarPivote(Tabla,indCol)\n",
    "        FilaPorConstante(Tabla,indFila,1/pivote)\n",
    "        ColumnaDelPivoteCero(Tabla,indFila,indCol)\n",
    "        Solucion[indFila][0] = indCol+1\n",
    "        ColMultiply[indFila] = Tabla[n-1][indCol]\n",
    "    for i in range(Solucion.__len__()):\n",
    "        if Solucion[i][0]!=0:\n",
    "            Solucion[i][1] = Tabla[i][m-1]\n",
    "    print(Solucion)"
   ]
  },
  {
   "cell_type": "markdown",
   "id": "92c52c14-ce67-471a-bb92-4d8d8b1643ea",
   "metadata": {},
   "source": [
    "Y conseguimos el valor minimo con la siguiente función"
   ]
  },
  {
   "cell_type": "code",
   "execution_count": 31,
   "id": "ebf287ea-0b7e-4581-9c9d-de240d5704ad",
   "metadata": {},
   "outputs": [],
   "source": [
    "def ConseguirValorMinimo(Solucion,z):\n",
    "    VariablesColumna = np.zeros((z.__len__()))\n",
    "    for i in range(z.__len__()):\n",
    "        VariablesColumna[i] = Solucion[i][0]\n",
    "    MinimoValor = 0\n",
    "    for i in range(z.__len__()):\n",
    "        indice = int(Solucion[i][0])-1\n",
    "        if indice >= 0:\n",
    "            MinimoValor += Solucion[i][1] * z[indice]\n",
    "            print(f\"El valor de x{indice+1} es: \",round(Solucion[i][1],1))\n",
    "    if ArrayConCeros(VariablesColumna):\n",
    "        print(\"Las otras variables son iguales a 0\")\n",
    "    return MinimoValor"
   ]
  },
  {
   "cell_type": "markdown",
   "id": "e39ffa4e-a4dd-4122-9388-53076394dd10",
   "metadata": {},
   "source": [
    "Para ello se ejecutan varios ejemplos, recordando que deben de estar en la forma canónica"
   ]
  },
  {
   "cell_type": "code",
   "execution_count": null,
   "id": "888be2d6-4eea-46dc-870a-6b49fd34edb1",
   "metadata": {},
   "outputs": [
    {
     "name": "stdout",
     "output_type": "stream",
     "text": [
      "Ejemplo para maximizar\n",
      "[[ 0. -1.  3.  1.  0.  6.]\n",
      " [ 0.  7.  1.  0.  1. 35.]\n",
      " [ 1. -7. -9.  0.  0.  0.]]\n",
      "[[2.  3.5]\n",
      " [1.  4.5]]\n",
      "La variable x2 es igual a 3.5\n",
      "La variable x1 es igual a 4.5\n",
      "La solucion maxima es :  63.0\n",
      "\n",
      "Tarea 3 PC1 para maximizar\n",
      "[[ 0.  2.  1.  1.  1.  0.  0.  2.]\n",
      " [ 0.  1.  2.  3.  0.  1.  0.  5.]\n",
      " [ 0.  2.  2.  1.  0.  0.  1.  6.]\n",
      " [ 1. -3. -1. -3.  0.  0.  0.  0.]]\n",
      "[[1.  0.2]\n",
      " [3.  1.6]\n",
      " [0.  0. ]]\n",
      "La variable x1 es igual a 0.2\n",
      "La variable x3 es igual a 1.6\n",
      "Las otras variables son iguales a 0\n",
      "La solucion maxima es :  5.4\n",
      "\n",
      "Ejemplo para minimizar\n",
      "[[ 1.   4.  -1.   1.   0.   0.   3.5]\n",
      " [ 1.   2.   0.   0.  -1.   1.   2.5]\n",
      " [ 3.   8.   0.   1.   0.   1.   0. ]]\n"
     ]
    }
   ],
   "source": [
    "# Funcion Main\n",
    "import numpy as np\n",
    "\n",
    "if __name__ == \"__main__\":\n",
    "    # Ejemplo para maximizar\n",
    "    A = [[-1,3],[7,1]]\n",
    "    B = [[6],[35]]\n",
    "    z = [7,9] # Maximar esa funcion \n",
    "    print(\"Ejemplo para maximizar\")\n",
    "    Solucion = np.zeros((z.__len__(),2))\n",
    "    Tabla = ConstruirTablaMaximizar(A,B,z)\n",
    "    print(Tabla)\n",
    "    SolMaxima = SimplexMaximizar(Tabla,Solucion)\n",
    "    print(Solucion)\n",
    "    # Confirmar la Solucion optima\n",
    "    ProbarOptimoValor(Solucion,z,SolMaxima)  \n",
    "\n",
    "    # Tarea 3 de la PC1\n",
    "    A = [[2,1,1],[1,2,3],[2,2,1]]\n",
    "    B = [[2],[5],[6]]\n",
    "    z = [3,1,3] # Maximar esa funcion \n",
    "    print(\"\\nTarea 3 PC1 para maximizar\")\n",
    "    Solucion = np.zeros((z.__len__(),2))\n",
    "    Tabla = ConstruirTablaMaximizar(A,B,z)\n",
    "    print(Tabla)\n",
    "    SolMaxima = SimplexMaximizar(Tabla,Solucion)\n",
    "    print(Solucion)\n",
    "    # Confirmar la Solucion optima\n",
    "    ProbarOptimoValor(Solucion,z,SolMaxima) \n",
    "\n",
    "    # Ejemplo para minimizar\n",
    "    A = [[1,4],[1,2]]\n",
    "    B = [[3.5],[2.5]]\n",
    "    z = [3,8]\n",
    "    NumeroVariables = z.__len__()\n",
    "    Tabla = ConstruirTablaMinimizar(A,B,z)\n",
    "    Solucion = np.zeros((z.__len__(),2))\n",
    "    print(\"\\nEjemplo para minimizar\")\n",
    "    print(Tabla)\n",
    "    SimplexMinimizar(Tabla,Solucion,NumeroVariables)\n",
    "    MinimoValor = ConseguirValorMinimo(Solucion,z) \n",
    "    print(\"El Minimo Valor es: \",MinimoValor)\n",
    "\n",
    "    # La tarea 4 de la PC1\n",
    "    A = [[1,2,3],[2,2,1]]\n",
    "    B = [[5],[6]]\n",
    "    z = [3,4,5]\n",
    "    NumeroVariables = z.__len__()\n",
    "    Tabla = ConstruirTablaMinimizar(A,B,z)\n",
    "    Solucion = np.zeros((z.__len__(),2))\n",
    "    print(\"\\nTarea 4 de la PC1\")\n",
    "    print(Tabla)\n",
    "    SimplexMinimizar(Tabla,Solucion,NumeroVariables)\n",
    "    MinimoValor = ConseguirValorMinimo(Solucion,z) \n",
    "    print(\"El Minimo Valor es: \",MinimoValor)\n"
   ]
  },
  {
   "cell_type": "markdown",
   "id": "a8a51a57-ba78-471f-b2e0-0461ae262642",
   "metadata": {},
   "source": [
    "Por cada ejemplo se ve la tabla resultante, la matriz Solucion, en la que en la primera columna son los indices de las variables y en la segunda los valores de cada uno de ellos. Y el valor de cada variable y el valor máximo o mínimo dependiendo de cada caso"
   ]
  }
 ],
 "metadata": {
  "kernelspec": {
   "display_name": "Python 3 (ipykernel)",
   "language": "python",
   "name": "python3"
  },
  "language_info": {
   "codemirror_mode": {
    "name": "ipython",
    "version": 3
   },
   "file_extension": ".py",
   "mimetype": "text/x-python",
   "name": "python",
   "nbconvert_exporter": "python",
   "pygments_lexer": "ipython3",
   "version": "3.10.12"
  }
 },
 "nbformat": 4,
 "nbformat_minor": 5
}
